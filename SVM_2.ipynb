{
  "nbformat": 4,
  "nbformat_minor": 0,
  "metadata": {
    "colab": {
      "name": "SVM_2.ipynb",
      "provenance": [],
      "collapsed_sections": [],
      "authorship_tag": "ABX9TyNinoLco7xvIdIf/WEeoO0H",
      "include_colab_link": true
    },
    "kernelspec": {
      "name": "python3",
      "display_name": "Python 3"
    },
    "language_info": {
      "name": "python"
    }
  },
  "cells": [
    {
      "cell_type": "markdown",
      "metadata": {
        "id": "view-in-github",
        "colab_type": "text"
      },
      "source": [
        "<a href=\"https://colab.research.google.com/github/svloc/matplotlib_python/blob/main/SVM_2.ipynb\" target=\"_parent\"><img src=\"https://colab.research.google.com/assets/colab-badge.svg\" alt=\"Open In Colab\"/></a>"
      ]
    },
    {
      "cell_type": "markdown",
      "source": [
        "TY_A_163 Sachin Lokare \n",
        "SVM"
      ],
      "metadata": {
        "id": "cCcrbHt-4hDw"
      }
    },
    {
      "cell_type": "code",
      "source": [
        "import numpy as np\n",
        "import pandas as pd\n",
        "import matplotlib.pyplot as plt\n",
        "from sklearn import datasets"
      ],
      "metadata": {
        "id": "3CLmkicp4r4A"
      },
      "execution_count": 54,
      "outputs": []
    },
    {
      "cell_type": "code",
      "source": [
        "iris=datasets.load_iris()"
      ],
      "metadata": {
        "id": "vobI2X2644Or"
      },
      "execution_count": 55,
      "outputs": []
    },
    {
      "cell_type": "code",
      "source": [
        "# iris.data\n",
        "# iris.feature_names\n",
        "iris_df=pd.DataFrame(data=iris.data,columns=iris.feature_names)\n",
        "iris_df.head(4)\n",
        "iris_df['target']=iris.target\n",
        "iris_df.head()"
      ],
      "metadata": {
        "id": "xUHqDhPa5MUs"
      },
      "execution_count": null,
      "outputs": []
    },
    {
      "cell_type": "code",
      "source": [
        "print(iris['DESCR'])"
      ],
      "metadata": {
        "id": "SFa9Htoz5jCc"
      },
      "execution_count": null,
      "outputs": []
    },
    {
      "cell_type": "code",
      "source": [
        "X=iris_df.iloc[:,:-1]\n",
        "Y=iris_df.iloc[:,-1].values\n"
      ],
      "metadata": {
        "id": "HVM2wmNn7wSJ"
      },
      "execution_count": 58,
      "outputs": []
    },
    {
      "cell_type": "code",
      "source": [
        "from sklearn.model_selection import train_test_split\n",
        "train_x,test_x,train_y,test_y=train_test_split(X,Y, test_size=0.2, random_state=0)\n",
        "\n"
      ],
      "metadata": {
        "id": "0IN9DTSX8WTr"
      },
      "execution_count": 59,
      "outputs": []
    },
    {
      "cell_type": "code",
      "source": [
        "from sklearn.svm import SVC\n",
        "c=SVC(kernel='linear',random_state=0)"
      ],
      "metadata": {
        "id": "rPXJtkT99ByR"
      },
      "execution_count": 60,
      "outputs": []
    },
    {
      "cell_type": "code",
      "source": [
        "c.fit(train_x,train_y)"
      ],
      "metadata": {
        "id": "z_nf8JG4-fjy"
      },
      "execution_count": null,
      "outputs": []
    },
    {
      "cell_type": "code",
      "source": [
        "y_predict=c.predict(test_x)"
      ],
      "metadata": {
        "id": "8BNnLziQ-ocw"
      },
      "execution_count": 62,
      "outputs": []
    },
    {
      "cell_type": "code",
      "source": [
        "from sklearn.metrics import confusion_matrix\n",
        "from sklearn.model_selection import cross_val_score"
      ],
      "metadata": {
        "id": "CeyiupmQHkLG"
      },
      "execution_count": 63,
      "outputs": []
    },
    {
      "cell_type": "code",
      "source": [
        "cm=confusion_matrix(test_y,y_predict)\n",
        "cm\n",
        "accuracy=cross_val_score(estimator=c,X=train_x,y=train_y,cv=10)\n",
        "print('Accuracy=',accuracy.mean()*100)\n",
        "print('Standard Deviation',accuracy.std())"
      ],
      "metadata": {
        "id": "8Fz0w65XHy0Q"
      },
      "execution_count": null,
      "outputs": []
    },
    {
      "cell_type": "code",
      "source": [
        ""
      ],
      "metadata": {
        "id": "NAIrNCPOICVo"
      },
      "execution_count": null,
      "outputs": []
    }
  ]
}